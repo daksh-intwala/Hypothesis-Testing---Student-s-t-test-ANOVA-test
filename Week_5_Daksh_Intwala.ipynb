{
 "cells": [
  {
   "cell_type": "markdown",
   "id": "d06816be-8929-4065-b113-21f3697fbe22",
   "metadata": {},
   "source": [
    "# Hypothesis Testing\n",
    "## Imoprting Libraries"
   ]
  },
  {
   "cell_type": "code",
   "execution_count": 1,
   "id": "955e053d-6275-45ec-9f0b-da44a0ac6688",
   "metadata": {},
   "outputs": [
    {
     "name": "stderr",
     "output_type": "stream",
     "text": [
      "C:\\Users\\intwa\\anaconda3\\lib\\site-packages\\IPython\\core\\interactiveshell.py:3165: DtypeWarning: Columns (4,24,28) have mixed types.Specify dtype option on import or set low_memory=False.\n",
      "  has_raised = await self.run_ast_nodes(code_ast.body, cell_name,\n"
     ]
    },
    {
     "data": {
      "text/html": [
       "<div>\n",
       "<style scoped>\n",
       "    .dataframe tbody tr th:only-of-type {\n",
       "        vertical-align: middle;\n",
       "    }\n",
       "\n",
       "    .dataframe tbody tr th {\n",
       "        vertical-align: top;\n",
       "    }\n",
       "\n",
       "    .dataframe thead th {\n",
       "        text-align: right;\n",
       "    }\n",
       "</style>\n",
       "<table border=\"1\" class=\"dataframe\">\n",
       "  <thead>\n",
       "    <tr style=\"text-align: right;\">\n",
       "      <th></th>\n",
       "      <th>Row ID</th>\n",
       "      <th>Year</th>\n",
       "      <th>Department Title</th>\n",
       "      <th>Payroll Department</th>\n",
       "      <th>Record Number</th>\n",
       "      <th>Job Class Title</th>\n",
       "      <th>Employment Type</th>\n",
       "      <th>Hourly or Event Rate</th>\n",
       "      <th>Projected Annual Salary</th>\n",
       "      <th>Q1 Payments</th>\n",
       "      <th>...</th>\n",
       "      <th>MOU Title</th>\n",
       "      <th>FMS Department</th>\n",
       "      <th>Job Class</th>\n",
       "      <th>Pay Grade</th>\n",
       "      <th>Average Health Cost</th>\n",
       "      <th>Average Dental Cost</th>\n",
       "      <th>Average Basic Life</th>\n",
       "      <th>Average Benefit Cost</th>\n",
       "      <th>Benefits Plan</th>\n",
       "      <th>Job Class Link</th>\n",
       "    </tr>\n",
       "  </thead>\n",
       "  <tbody>\n",
       "    <tr>\n",
       "      <th>0</th>\n",
       "      <td>111391</td>\n",
       "      <td>2014</td>\n",
       "      <td>Water And Power (DWP)</td>\n",
       "      <td>NaN</td>\n",
       "      <td>1412316577</td>\n",
       "      <td>Commercial Service Representative</td>\n",
       "      <td>Full Time</td>\n",
       "      <td>NaN</td>\n",
       "      <td>$70386.48</td>\n",
       "      <td>$16129.89</td>\n",
       "      <td>...</td>\n",
       "      <td>NaN</td>\n",
       "      <td>98</td>\n",
       "      <td>1230</td>\n",
       "      <td>NaN</td>\n",
       "      <td>$16842.08</td>\n",
       "      <td>$1282.61</td>\n",
       "      <td>$0.00</td>\n",
       "      <td>$18124.69</td>\n",
       "      <td>DWP</td>\n",
       "      <td>http://per.lacity.org/perspecs/1230.pdf</td>\n",
       "    </tr>\n",
       "    <tr>\n",
       "      <th>1</th>\n",
       "      <td>31732</td>\n",
       "      <td>2013</td>\n",
       "      <td>Police (LAPD)</td>\n",
       "      <td>4301.0</td>\n",
       "      <td>432728338</td>\n",
       "      <td>Police Officer I</td>\n",
       "      <td>Full Time</td>\n",
       "      <td>$25.12</td>\n",
       "      <td>$52450.56</td>\n",
       "      <td>$11331.00</td>\n",
       "      <td>...</td>\n",
       "      <td>POLICE OFFICERS UNIT</td>\n",
       "      <td>70</td>\n",
       "      <td>2214</td>\n",
       "      <td>A</td>\n",
       "      <td>$11651.40</td>\n",
       "      <td>$898.08</td>\n",
       "      <td>$191.04</td>\n",
       "      <td>$12740.52</td>\n",
       "      <td>Police</td>\n",
       "      <td>http://per.lacity.org/perspecs/2214.pdf</td>\n",
       "    </tr>\n",
       "    <tr>\n",
       "      <th>2</th>\n",
       "      <td>27697</td>\n",
       "      <td>2013</td>\n",
       "      <td>Police (LAPD)</td>\n",
       "      <td>4301.0</td>\n",
       "      <td>97182506</td>\n",
       "      <td>Police Officer II</td>\n",
       "      <td>Full Time</td>\n",
       "      <td>$42.77</td>\n",
       "      <td>$89303.76</td>\n",
       "      <td>$20036.32</td>\n",
       "      <td>...</td>\n",
       "      <td>POLICE OFFICERS UNIT</td>\n",
       "      <td>70</td>\n",
       "      <td>2214</td>\n",
       "      <td>2</td>\n",
       "      <td>$11651.40</td>\n",
       "      <td>$898.08</td>\n",
       "      <td>$191.04</td>\n",
       "      <td>$12740.52</td>\n",
       "      <td>Police</td>\n",
       "      <td>http://per.lacity.org/perspecs/2214.pdf</td>\n",
       "    </tr>\n",
       "    <tr>\n",
       "      <th>3</th>\n",
       "      <td>14136</td>\n",
       "      <td>2013</td>\n",
       "      <td>Harbor (Port of LA)</td>\n",
       "      <td>3201.0</td>\n",
       "      <td>950136941</td>\n",
       "      <td>Senior Security Officer</td>\n",
       "      <td>Full Time</td>\n",
       "      <td>$28.75</td>\n",
       "      <td>$60028.96</td>\n",
       "      <td>$15793.88</td>\n",
       "      <td>...</td>\n",
       "      <td>SUPV BLUE COLLAR</td>\n",
       "      <td>42</td>\n",
       "      <td>3184</td>\n",
       "      <td>0</td>\n",
       "      <td>$10710.24</td>\n",
       "      <td>$405.24</td>\n",
       "      <td>$11.40</td>\n",
       "      <td>$11126.88</td>\n",
       "      <td>City</td>\n",
       "      <td>http://per.lacity.org/perspecs/3184.pdf</td>\n",
       "    </tr>\n",
       "    <tr>\n",
       "      <th>4</th>\n",
       "      <td>91896</td>\n",
       "      <td>2014</td>\n",
       "      <td>Public Works - Sanitation</td>\n",
       "      <td>7024.0</td>\n",
       "      <td>3230003445</td>\n",
       "      <td>Senior Clerk Typist</td>\n",
       "      <td>Full Time</td>\n",
       "      <td>$30.92</td>\n",
       "      <td>$64553.13</td>\n",
       "      <td>$14700.00</td>\n",
       "      <td>...</td>\n",
       "      <td>CLERICAL UNIT</td>\n",
       "      <td>82</td>\n",
       "      <td>1368</td>\n",
       "      <td>0</td>\n",
       "      <td>$11000.40</td>\n",
       "      <td>$409.68</td>\n",
       "      <td>$11.40</td>\n",
       "      <td>$11421.48</td>\n",
       "      <td>City</td>\n",
       "      <td>http://per.lacity.org/perspecs/1368.pdf</td>\n",
       "    </tr>\n",
       "  </tbody>\n",
       "</table>\n",
       "<p>5 rows × 35 columns</p>\n",
       "</div>"
      ],
      "text/plain": [
       "   Row ID  Year           Department Title  Payroll Department Record Number  \\\n",
       "0  111391  2014      Water And Power (DWP)                 NaN    1412316577   \n",
       "1   31732  2013              Police (LAPD)              4301.0     432728338   \n",
       "2   27697  2013              Police (LAPD)              4301.0      97182506   \n",
       "3   14136  2013        Harbor (Port of LA)              3201.0     950136941   \n",
       "4   91896  2014  Public Works - Sanitation              7024.0    3230003445   \n",
       "\n",
       "                     Job Class Title Employment Type Hourly or Event Rate  \\\n",
       "0  Commercial Service Representative       Full Time                  NaN   \n",
       "1                   Police Officer I       Full Time               $25.12   \n",
       "2                  Police Officer II       Full Time               $42.77   \n",
       "3            Senior Security Officer       Full Time               $28.75   \n",
       "4                Senior Clerk Typist       Full Time               $30.92   \n",
       "\n",
       "  Projected Annual Salary Q1 Payments  ...             MOU Title  \\\n",
       "0               $70386.48   $16129.89  ...                   NaN   \n",
       "1               $52450.56   $11331.00  ...  POLICE OFFICERS UNIT   \n",
       "2               $89303.76   $20036.32  ...  POLICE OFFICERS UNIT   \n",
       "3               $60028.96   $15793.88  ...      SUPV BLUE COLLAR   \n",
       "4               $64553.13   $14700.00  ...         CLERICAL UNIT   \n",
       "\n",
       "  FMS Department Job Class Pay Grade Average Health Cost Average Dental Cost  \\\n",
       "0             98      1230       NaN           $16842.08            $1282.61   \n",
       "1             70      2214         A           $11651.40             $898.08   \n",
       "2             70      2214         2           $11651.40             $898.08   \n",
       "3             42      3184         0           $10710.24             $405.24   \n",
       "4             82      1368         0           $11000.40             $409.68   \n",
       "\n",
       "  Average Basic Life Average Benefit Cost Benefits Plan  \\\n",
       "0              $0.00            $18124.69           DWP   \n",
       "1            $191.04            $12740.52        Police   \n",
       "2            $191.04            $12740.52        Police   \n",
       "3             $11.40            $11126.88          City   \n",
       "4             $11.40            $11421.48          City   \n",
       "\n",
       "                            Job Class Link  \n",
       "0  http://per.lacity.org/perspecs/1230.pdf  \n",
       "1  http://per.lacity.org/perspecs/2214.pdf  \n",
       "2  http://per.lacity.org/perspecs/2214.pdf  \n",
       "3  http://per.lacity.org/perspecs/3184.pdf  \n",
       "4  http://per.lacity.org/perspecs/1368.pdf  \n",
       "\n",
       "[5 rows x 35 columns]"
      ]
     },
     "execution_count": 1,
     "metadata": {},
     "output_type": "execute_result"
    }
   ],
   "source": [
    "import pandas as pd\n",
    "import numpy as np\n",
    "from matplotlib import pyplot as plt\n",
    "%matplotlib inline\n",
    "import seaborn as sns\n",
    "from scipy import stats\n",
    "import statistics\n",
    "import warnings\n",
    "\n",
    "df= pd.read_csv(\"data.csv\")\n",
    "df.head()\n"
   ]
  },
  {
   "cell_type": "markdown",
   "id": "d1cb7434-47b2-478c-85d7-470a79ade9e8",
   "metadata": {},
   "source": [
    "### Exploratory Data Analysis"
   ]
  },
  {
   "cell_type": "code",
   "execution_count": 5,
   "id": "62f9d54c-2600-45d8-bd57-a0437521ac24",
   "metadata": {},
   "outputs": [
    {
     "name": "stdout",
     "output_type": "stream",
     "text": [
      "<class 'pandas.core.frame.DataFrame'>\n",
      "RangeIndex: 285008 entries, 0 to 285007\n",
      "Data columns (total 35 columns):\n",
      " #   Column                        Non-Null Count   Dtype  \n",
      "---  ------                        --------------   -----  \n",
      " 0   Row ID                        285008 non-null  int64  \n",
      " 1   Year                          285008 non-null  int64  \n",
      " 2   Department Title              285008 non-null  object \n",
      " 3   Payroll Department            231463 non-null  float64\n",
      " 4   Record Number                 285008 non-null  object \n",
      " 5   Job Class Title               285008 non-null  object \n",
      " 6   Employment Type               285008 non-null  object \n",
      " 7   Hourly or Event Rate          263987 non-null  object \n",
      " 8   Projected Annual Salary       285008 non-null  object \n",
      " 9   Q1 Payments                   285008 non-null  object \n",
      " 10  Q2 Payments                   285008 non-null  object \n",
      " 11  Q3 Payments                   285008 non-null  object \n",
      " 12  Q4 Payments                   285008 non-null  object \n",
      " 13  Payments Over Base Pay        285008 non-null  object \n",
      " 14  % Over Base Pay               285008 non-null  object \n",
      " 15  Total Payments                285008 non-null  object \n",
      " 16  Base Pay                      285008 non-null  object \n",
      " 17  Permanent Bonus Pay           285008 non-null  object \n",
      " 18  Longevity Bonus Pay           285008 non-null  object \n",
      " 19  Temporary Bonus Pay           285008 non-null  object \n",
      " 20  Lump Sum Pay                  242744 non-null  object \n",
      " 21  Overtime Pay                  284574 non-null  object \n",
      " 22  Other Pay & Adjustments       285008 non-null  object \n",
      " 23  Other Pay (Payroll Explorer)  285008 non-null  object \n",
      " 24  MOU                           263987 non-null  object \n",
      " 25  MOU Title                     263987 non-null  object \n",
      " 26  FMS Department                285008 non-null  int64  \n",
      " 27  Job Class                     285008 non-null  int64  \n",
      " 28  Pay Grade                     187905 non-null  object \n",
      " 29  Average Health Cost           285008 non-null  object \n",
      " 30  Average Dental Cost           285008 non-null  object \n",
      " 31  Average Basic Life            285008 non-null  object \n",
      " 32  Average Benefit Cost          285008 non-null  object \n",
      " 33  Benefits Plan                 245926 non-null  object \n",
      " 34  Job Class Link                285008 non-null  object \n",
      "dtypes: float64(1), int64(4), object(30)\n",
      "memory usage: 76.1+ MB\n"
     ]
    }
   ],
   "source": [
    "df.info()"
   ]
  },
  {
   "cell_type": "code",
   "execution_count": 6,
   "id": "3c645e5f-465d-42f0-b8c5-8e758e965440",
   "metadata": {},
   "outputs": [
    {
     "data": {
      "text/plain": [
       "Row ID                              0\n",
       "Year                                0\n",
       "Department Title                    0\n",
       "Payroll Department              53545\n",
       "Record Number                       0\n",
       "Job Class Title                     0\n",
       "Employment Type                     0\n",
       "Hourly or Event Rate            21021\n",
       "Projected Annual Salary             0\n",
       "Q1 Payments                         0\n",
       "Q2 Payments                         0\n",
       "Q3 Payments                         0\n",
       "Q4 Payments                         0\n",
       "Payments Over Base Pay              0\n",
       "% Over Base Pay                     0\n",
       "Total Payments                      0\n",
       "Base Pay                            0\n",
       "Permanent Bonus Pay                 0\n",
       "Longevity Bonus Pay                 0\n",
       "Temporary Bonus Pay                 0\n",
       "Lump Sum Pay                    42264\n",
       "Overtime Pay                      434\n",
       "Other Pay & Adjustments             0\n",
       "Other Pay (Payroll Explorer)        0\n",
       "MOU                             21021\n",
       "MOU Title                       21021\n",
       "FMS Department                      0\n",
       "Job Class                           0\n",
       "Pay Grade                       97103\n",
       "Average Health Cost                 0\n",
       "Average Dental Cost                 0\n",
       "Average Basic Life                  0\n",
       "Average Benefit Cost                0\n",
       "Benefits Plan                   39082\n",
       "Job Class Link                      0\n",
       "dtype: int64"
      ]
     },
     "execution_count": 6,
     "metadata": {},
     "output_type": "execute_result"
    }
   ],
   "source": [
    "df.isnull().sum()"
   ]
  },
  {
   "cell_type": "markdown",
   "id": "97ef5802-f378-4a38-bd0a-9a9e7a71d2bc",
   "metadata": {},
   "source": [
    "## Data Preparation"
   ]
  },
  {
   "cell_type": "code",
   "execution_count": 17,
   "id": "28509384-85be-4bd4-ab5c-1701ec79b2cc",
   "metadata": {},
   "outputs": [],
   "source": [
    "df = df[pd.notnull(df['Payroll Department'])]"
   ]
  },
  {
   "cell_type": "code",
   "execution_count": 8,
   "id": "5951961e-07ca-409d-af7b-92046fddb839",
   "metadata": {},
   "outputs": [
    {
     "data": {
      "text/html": [
       "<div>\n",
       "<style scoped>\n",
       "    .dataframe tbody tr th:only-of-type {\n",
       "        vertical-align: middle;\n",
       "    }\n",
       "\n",
       "    .dataframe tbody tr th {\n",
       "        vertical-align: top;\n",
       "    }\n",
       "\n",
       "    .dataframe thead th {\n",
       "        text-align: right;\n",
       "    }\n",
       "</style>\n",
       "<table border=\"1\" class=\"dataframe\">\n",
       "  <thead>\n",
       "    <tr style=\"text-align: right;\">\n",
       "      <th></th>\n",
       "      <th>Row ID</th>\n",
       "      <th>Year</th>\n",
       "      <th>Payroll Department</th>\n",
       "      <th>FMS Department</th>\n",
       "      <th>Job Class</th>\n",
       "    </tr>\n",
       "  </thead>\n",
       "  <tbody>\n",
       "    <tr>\n",
       "      <th>Row ID</th>\n",
       "      <td>1.000000</td>\n",
       "      <td>0.958912</td>\n",
       "      <td>0.162959</td>\n",
       "      <td>0.161798</td>\n",
       "      <td>0.021216</td>\n",
       "    </tr>\n",
       "    <tr>\n",
       "      <th>Year</th>\n",
       "      <td>0.958912</td>\n",
       "      <td>1.000000</td>\n",
       "      <td>0.005469</td>\n",
       "      <td>0.008489</td>\n",
       "      <td>0.016790</td>\n",
       "    </tr>\n",
       "    <tr>\n",
       "      <th>Payroll Department</th>\n",
       "      <td>0.162959</td>\n",
       "      <td>0.005469</td>\n",
       "      <td>1.000000</td>\n",
       "      <td>0.906477</td>\n",
       "      <td>0.045272</td>\n",
       "    </tr>\n",
       "    <tr>\n",
       "      <th>FMS Department</th>\n",
       "      <td>0.161798</td>\n",
       "      <td>0.008489</td>\n",
       "      <td>0.906477</td>\n",
       "      <td>1.000000</td>\n",
       "      <td>0.020020</td>\n",
       "    </tr>\n",
       "    <tr>\n",
       "      <th>Job Class</th>\n",
       "      <td>0.021216</td>\n",
       "      <td>0.016790</td>\n",
       "      <td>0.045272</td>\n",
       "      <td>0.020020</td>\n",
       "      <td>1.000000</td>\n",
       "    </tr>\n",
       "  </tbody>\n",
       "</table>\n",
       "</div>"
      ],
      "text/plain": [
       "                      Row ID      Year  Payroll Department  FMS Department  \\\n",
       "Row ID              1.000000  0.958912            0.162959        0.161798   \n",
       "Year                0.958912  1.000000            0.005469        0.008489   \n",
       "Payroll Department  0.162959  0.005469            1.000000        0.906477   \n",
       "FMS Department      0.161798  0.008489            0.906477        1.000000   \n",
       "Job Class           0.021216  0.016790            0.045272        0.020020   \n",
       "\n",
       "                    Job Class  \n",
       "Row ID               0.021216  \n",
       "Year                 0.016790  \n",
       "Payroll Department   0.045272  \n",
       "FMS Department       0.020020  \n",
       "Job Class            1.000000  "
      ]
     },
     "execution_count": 8,
     "metadata": {},
     "output_type": "execute_result"
    }
   ],
   "source": [
    "df.corr()"
   ]
  },
  {
   "cell_type": "markdown",
   "id": "1a6e20dc-75c0-4466-8e14-248e54c64546",
   "metadata": {},
   "source": [
    "### Year-Row ID correlated and Payroll Department- FMS Department Correlated"
   ]
  },
  {
   "cell_type": "code",
   "execution_count": 9,
   "id": "5a6a3a5d-f6c4-445b-8792-b6ffc4f78098",
   "metadata": {},
   "outputs": [
    {
     "data": {
      "text/html": [
       "<div>\n",
       "<style scoped>\n",
       "    .dataframe tbody tr th:only-of-type {\n",
       "        vertical-align: middle;\n",
       "    }\n",
       "\n",
       "    .dataframe tbody tr th {\n",
       "        vertical-align: top;\n",
       "    }\n",
       "\n",
       "    .dataframe thead th {\n",
       "        text-align: right;\n",
       "    }\n",
       "</style>\n",
       "<table border=\"1\" class=\"dataframe\">\n",
       "  <thead>\n",
       "    <tr style=\"text-align: right;\">\n",
       "      <th></th>\n",
       "      <th>Year</th>\n",
       "      <th>Department Title</th>\n",
       "      <th>Payroll Department</th>\n",
       "      <th>Record Number</th>\n",
       "      <th>Job Class Title</th>\n",
       "      <th>Employment Type</th>\n",
       "      <th>Hourly or Event Rate</th>\n",
       "      <th>Projected Annual Salary</th>\n",
       "      <th>Q1 Payments</th>\n",
       "      <th>Q2 Payments</th>\n",
       "      <th>...</th>\n",
       "      <th>MOU</th>\n",
       "      <th>MOU Title</th>\n",
       "      <th>Job Class</th>\n",
       "      <th>Pay Grade</th>\n",
       "      <th>Average Health Cost</th>\n",
       "      <th>Average Dental Cost</th>\n",
       "      <th>Average Basic Life</th>\n",
       "      <th>Average Benefit Cost</th>\n",
       "      <th>Benefits Plan</th>\n",
       "      <th>Job Class Link</th>\n",
       "    </tr>\n",
       "  </thead>\n",
       "  <tbody>\n",
       "    <tr>\n",
       "      <th>1</th>\n",
       "      <td>2013</td>\n",
       "      <td>Police (LAPD)</td>\n",
       "      <td>4301.0</td>\n",
       "      <td>432728338</td>\n",
       "      <td>Police Officer I</td>\n",
       "      <td>Full Time</td>\n",
       "      <td>$25.12</td>\n",
       "      <td>$52450.56</td>\n",
       "      <td>$11331.00</td>\n",
       "      <td>$13859.93</td>\n",
       "      <td>...</td>\n",
       "      <td>24.0</td>\n",
       "      <td>POLICE OFFICERS UNIT</td>\n",
       "      <td>2214</td>\n",
       "      <td>A</td>\n",
       "      <td>$11651.40</td>\n",
       "      <td>$898.08</td>\n",
       "      <td>$191.04</td>\n",
       "      <td>$12740.52</td>\n",
       "      <td>Police</td>\n",
       "      <td>http://per.lacity.org/perspecs/2214.pdf</td>\n",
       "    </tr>\n",
       "    <tr>\n",
       "      <th>2</th>\n",
       "      <td>2013</td>\n",
       "      <td>Police (LAPD)</td>\n",
       "      <td>4301.0</td>\n",
       "      <td>97182506</td>\n",
       "      <td>Police Officer II</td>\n",
       "      <td>Full Time</td>\n",
       "      <td>$42.77</td>\n",
       "      <td>$89303.76</td>\n",
       "      <td>$20036.32</td>\n",
       "      <td>$23479.20</td>\n",
       "      <td>...</td>\n",
       "      <td>24.0</td>\n",
       "      <td>POLICE OFFICERS UNIT</td>\n",
       "      <td>2214</td>\n",
       "      <td>2</td>\n",
       "      <td>$11651.40</td>\n",
       "      <td>$898.08</td>\n",
       "      <td>$191.04</td>\n",
       "      <td>$12740.52</td>\n",
       "      <td>Police</td>\n",
       "      <td>http://per.lacity.org/perspecs/2214.pdf</td>\n",
       "    </tr>\n",
       "    <tr>\n",
       "      <th>3</th>\n",
       "      <td>2013</td>\n",
       "      <td>Harbor (Port of LA)</td>\n",
       "      <td>3201.0</td>\n",
       "      <td>950136941</td>\n",
       "      <td>Senior Security Officer</td>\n",
       "      <td>Full Time</td>\n",
       "      <td>$28.75</td>\n",
       "      <td>$60028.96</td>\n",
       "      <td>$15793.88</td>\n",
       "      <td>$18560.38</td>\n",
       "      <td>...</td>\n",
       "      <td>12.0</td>\n",
       "      <td>SUPV BLUE COLLAR</td>\n",
       "      <td>3184</td>\n",
       "      <td>0</td>\n",
       "      <td>$10710.24</td>\n",
       "      <td>$405.24</td>\n",
       "      <td>$11.40</td>\n",
       "      <td>$11126.88</td>\n",
       "      <td>City</td>\n",
       "      <td>http://per.lacity.org/perspecs/3184.pdf</td>\n",
       "    </tr>\n",
       "    <tr>\n",
       "      <th>4</th>\n",
       "      <td>2014</td>\n",
       "      <td>Public Works - Sanitation</td>\n",
       "      <td>7024.0</td>\n",
       "      <td>3230003445</td>\n",
       "      <td>Senior Clerk Typist</td>\n",
       "      <td>Full Time</td>\n",
       "      <td>$30.92</td>\n",
       "      <td>$64553.13</td>\n",
       "      <td>$14700.00</td>\n",
       "      <td>$17313.10</td>\n",
       "      <td>...</td>\n",
       "      <td>3.0</td>\n",
       "      <td>CLERICAL UNIT</td>\n",
       "      <td>1368</td>\n",
       "      <td>0</td>\n",
       "      <td>$11000.40</td>\n",
       "      <td>$409.68</td>\n",
       "      <td>$11.40</td>\n",
       "      <td>$11421.48</td>\n",
       "      <td>City</td>\n",
       "      <td>http://per.lacity.org/perspecs/1368.pdf</td>\n",
       "    </tr>\n",
       "    <tr>\n",
       "      <th>6</th>\n",
       "      <td>2014</td>\n",
       "      <td>Airports (LAWA)</td>\n",
       "      <td>101.0</td>\n",
       "      <td>4237826094</td>\n",
       "      <td>Custodian - Airports</td>\n",
       "      <td>Full Time</td>\n",
       "      <td>$22.95</td>\n",
       "      <td>$47911.51</td>\n",
       "      <td>$13493.87</td>\n",
       "      <td>$14599.61</td>\n",
       "      <td>...</td>\n",
       "      <td>15.0</td>\n",
       "      <td>SERVICE EMPLOYEES UNIT</td>\n",
       "      <td>3156</td>\n",
       "      <td>A</td>\n",
       "      <td>$11000.40</td>\n",
       "      <td>$409.68</td>\n",
       "      <td>$11.40</td>\n",
       "      <td>$11421.48</td>\n",
       "      <td>City</td>\n",
       "      <td>http://per.lacity.org/perspecs/3156.pdf</td>\n",
       "    </tr>\n",
       "    <tr>\n",
       "      <th>...</th>\n",
       "      <td>...</td>\n",
       "      <td>...</td>\n",
       "      <td>...</td>\n",
       "      <td>...</td>\n",
       "      <td>...</td>\n",
       "      <td>...</td>\n",
       "      <td>...</td>\n",
       "      <td>...</td>\n",
       "      <td>...</td>\n",
       "      <td>...</td>\n",
       "      <td>...</td>\n",
       "      <td>...</td>\n",
       "      <td>...</td>\n",
       "      <td>...</td>\n",
       "      <td>...</td>\n",
       "      <td>...</td>\n",
       "      <td>...</td>\n",
       "      <td>...</td>\n",
       "      <td>...</td>\n",
       "      <td>...</td>\n",
       "      <td>...</td>\n",
       "    </tr>\n",
       "    <tr>\n",
       "      <th>274156</th>\n",
       "      <td>2016</td>\n",
       "      <td>Zoo</td>\n",
       "      <td>8702.0</td>\n",
       "      <td>1569372100</td>\n",
       "      <td>Zoo Veterinarian II</td>\n",
       "      <td>Part Time</td>\n",
       "      <td>$49.50</td>\n",
       "      <td>$103356.00</td>\n",
       "      <td>$0.00</td>\n",
       "      <td>$1262.25</td>\n",
       "      <td>...</td>\n",
       "      <td>10</td>\n",
       "      <td>Professional Medical</td>\n",
       "      <td>2367</td>\n",
       "      <td>2</td>\n",
       "      <td>$0.00</td>\n",
       "      <td>$0.00</td>\n",
       "      <td>$0.00</td>\n",
       "      <td>$0.00</td>\n",
       "      <td>City</td>\n",
       "      <td>http://per.lacity.org/perspecs/2367.pdf</td>\n",
       "    </tr>\n",
       "    <tr>\n",
       "      <th>274157</th>\n",
       "      <td>2016</td>\n",
       "      <td>Zoo</td>\n",
       "      <td>8702.0</td>\n",
       "      <td>583720037</td>\n",
       "      <td>Zoo Veterinarian II</td>\n",
       "      <td>Part Time</td>\n",
       "      <td>$49.50</td>\n",
       "      <td>$103356.00</td>\n",
       "      <td>$24195.60</td>\n",
       "      <td>$5865.75</td>\n",
       "      <td>...</td>\n",
       "      <td>10</td>\n",
       "      <td>Professional Medical</td>\n",
       "      <td>2367</td>\n",
       "      <td>2</td>\n",
       "      <td>$0.00</td>\n",
       "      <td>$0.00</td>\n",
       "      <td>$0.00</td>\n",
       "      <td>$0.00</td>\n",
       "      <td>City</td>\n",
       "      <td>http://per.lacity.org/perspecs/2367.pdf</td>\n",
       "    </tr>\n",
       "    <tr>\n",
       "      <th>274158</th>\n",
       "      <td>2016</td>\n",
       "      <td>Zoo</td>\n",
       "      <td>8702.0</td>\n",
       "      <td>2795932236</td>\n",
       "      <td>Zoo Veterinarian II</td>\n",
       "      <td>Part Time</td>\n",
       "      <td>$50.86</td>\n",
       "      <td>$106198.29</td>\n",
       "      <td>$4475.79</td>\n",
       "      <td>$6637.38</td>\n",
       "      <td>...</td>\n",
       "      <td>10</td>\n",
       "      <td>Professional Medical</td>\n",
       "      <td>2367</td>\n",
       "      <td>2</td>\n",
       "      <td>$0.00</td>\n",
       "      <td>$0.00</td>\n",
       "      <td>$0.00</td>\n",
       "      <td>$0.00</td>\n",
       "      <td>City</td>\n",
       "      <td>http://per.lacity.org/perspecs/2367.pdf</td>\n",
       "    </tr>\n",
       "    <tr>\n",
       "      <th>274159</th>\n",
       "      <td>2016</td>\n",
       "      <td>Zoo</td>\n",
       "      <td>8702.0</td>\n",
       "      <td>3627379422</td>\n",
       "      <td>Zoo Veterinarian II</td>\n",
       "      <td>Part Time</td>\n",
       "      <td>$49.50</td>\n",
       "      <td>$103356.00</td>\n",
       "      <td>$0.00</td>\n",
       "      <td>$2450.25</td>\n",
       "      <td>...</td>\n",
       "      <td>10</td>\n",
       "      <td>Professional Medical</td>\n",
       "      <td>2367</td>\n",
       "      <td>2</td>\n",
       "      <td>$0.00</td>\n",
       "      <td>$0.00</td>\n",
       "      <td>$0.00</td>\n",
       "      <td>$0.00</td>\n",
       "      <td>City</td>\n",
       "      <td>http://per.lacity.org/perspecs/2367.pdf</td>\n",
       "    </tr>\n",
       "    <tr>\n",
       "      <th>274160</th>\n",
       "      <td>2016</td>\n",
       "      <td>Zoo</td>\n",
       "      <td>8702.0</td>\n",
       "      <td>433555593</td>\n",
       "      <td>Zoo Veterinarian II</td>\n",
       "      <td>Part Time</td>\n",
       "      <td>$49.50</td>\n",
       "      <td>$103356.00</td>\n",
       "      <td>$2079.00</td>\n",
       "      <td>$5197.50</td>\n",
       "      <td>...</td>\n",
       "      <td>10</td>\n",
       "      <td>Professional Medical</td>\n",
       "      <td>2367</td>\n",
       "      <td>2</td>\n",
       "      <td>$0.00</td>\n",
       "      <td>$0.00</td>\n",
       "      <td>$0.00</td>\n",
       "      <td>$0.00</td>\n",
       "      <td>City</td>\n",
       "      <td>http://per.lacity.org/perspecs/2367.pdf</td>\n",
       "    </tr>\n",
       "  </tbody>\n",
       "</table>\n",
       "<p>231463 rows × 33 columns</p>\n",
       "</div>"
      ],
      "text/plain": [
       "        Year           Department Title  Payroll Department Record Number  \\\n",
       "1       2013              Police (LAPD)              4301.0     432728338   \n",
       "2       2013              Police (LAPD)              4301.0      97182506   \n",
       "3       2013        Harbor (Port of LA)              3201.0     950136941   \n",
       "4       2014  Public Works - Sanitation              7024.0    3230003445   \n",
       "6       2014            Airports (LAWA)               101.0    4237826094   \n",
       "...      ...                        ...                 ...           ...   \n",
       "274156  2016                        Zoo              8702.0    1569372100   \n",
       "274157  2016                        Zoo              8702.0     583720037   \n",
       "274158  2016                        Zoo              8702.0    2795932236   \n",
       "274159  2016                        Zoo              8702.0    3627379422   \n",
       "274160  2016                        Zoo              8702.0     433555593   \n",
       "\n",
       "                Job Class Title Employment Type Hourly or Event Rate  \\\n",
       "1              Police Officer I       Full Time               $25.12   \n",
       "2             Police Officer II       Full Time               $42.77   \n",
       "3       Senior Security Officer       Full Time               $28.75   \n",
       "4           Senior Clerk Typist       Full Time               $30.92   \n",
       "6          Custodian - Airports       Full Time               $22.95   \n",
       "...                         ...             ...                  ...   \n",
       "274156      Zoo Veterinarian II       Part Time               $49.50   \n",
       "274157      Zoo Veterinarian II       Part Time               $49.50   \n",
       "274158      Zoo Veterinarian II       Part Time               $50.86   \n",
       "274159      Zoo Veterinarian II       Part Time               $49.50   \n",
       "274160      Zoo Veterinarian II       Part Time               $49.50   \n",
       "\n",
       "       Projected Annual Salary Q1 Payments Q2 Payments  ...   MOU  \\\n",
       "1                    $52450.56   $11331.00   $13859.93  ...  24.0   \n",
       "2                    $89303.76   $20036.32   $23479.20  ...  24.0   \n",
       "3                    $60028.96   $15793.88   $18560.38  ...  12.0   \n",
       "4                    $64553.13   $14700.00   $17313.10  ...   3.0   \n",
       "6                    $47911.51   $13493.87   $14599.61  ...  15.0   \n",
       "...                        ...         ...         ...  ...   ...   \n",
       "274156              $103356.00       $0.00    $1262.25  ...    10   \n",
       "274157              $103356.00   $24195.60    $5865.75  ...    10   \n",
       "274158              $106198.29    $4475.79    $6637.38  ...    10   \n",
       "274159              $103356.00       $0.00    $2450.25  ...    10   \n",
       "274160              $103356.00    $2079.00    $5197.50  ...    10   \n",
       "\n",
       "                     MOU Title Job Class Pay Grade Average Health Cost  \\\n",
       "1         POLICE OFFICERS UNIT      2214         A           $11651.40   \n",
       "2         POLICE OFFICERS UNIT      2214         2           $11651.40   \n",
       "3             SUPV BLUE COLLAR      3184         0           $10710.24   \n",
       "4                CLERICAL UNIT      1368         0           $11000.40   \n",
       "6       SERVICE EMPLOYEES UNIT      3156         A           $11000.40   \n",
       "...                        ...       ...       ...                 ...   \n",
       "274156    Professional Medical      2367         2               $0.00   \n",
       "274157    Professional Medical      2367         2               $0.00   \n",
       "274158    Professional Medical      2367         2               $0.00   \n",
       "274159    Professional Medical      2367         2               $0.00   \n",
       "274160    Professional Medical      2367         2               $0.00   \n",
       "\n",
       "       Average Dental Cost Average Basic Life Average Benefit Cost  \\\n",
       "1                  $898.08            $191.04            $12740.52   \n",
       "2                  $898.08            $191.04            $12740.52   \n",
       "3                  $405.24             $11.40            $11126.88   \n",
       "4                  $409.68             $11.40            $11421.48   \n",
       "6                  $409.68             $11.40            $11421.48   \n",
       "...                    ...                ...                  ...   \n",
       "274156               $0.00              $0.00                $0.00   \n",
       "274157               $0.00              $0.00                $0.00   \n",
       "274158               $0.00              $0.00                $0.00   \n",
       "274159               $0.00              $0.00                $0.00   \n",
       "274160               $0.00              $0.00                $0.00   \n",
       "\n",
       "       Benefits Plan                           Job Class Link  \n",
       "1             Police  http://per.lacity.org/perspecs/2214.pdf  \n",
       "2             Police  http://per.lacity.org/perspecs/2214.pdf  \n",
       "3               City  http://per.lacity.org/perspecs/3184.pdf  \n",
       "4               City  http://per.lacity.org/perspecs/1368.pdf  \n",
       "6               City  http://per.lacity.org/perspecs/3156.pdf  \n",
       "...              ...                                      ...  \n",
       "274156          City  http://per.lacity.org/perspecs/2367.pdf  \n",
       "274157          City  http://per.lacity.org/perspecs/2367.pdf  \n",
       "274158          City  http://per.lacity.org/perspecs/2367.pdf  \n",
       "274159          City  http://per.lacity.org/perspecs/2367.pdf  \n",
       "274160          City  http://per.lacity.org/perspecs/2367.pdf  \n",
       "\n",
       "[231463 rows x 33 columns]"
      ]
     },
     "execution_count": 9,
     "metadata": {},
     "output_type": "execute_result"
    }
   ],
   "source": [
    "df.drop(['Row ID','FMS Department'], axis=1)"
   ]
  },
  {
   "cell_type": "markdown",
   "id": "23149a88-2392-4a1d-8c92-4cd92ad96beb",
   "metadata": {},
   "source": [
    "### Removing dollar sign and converting obj type into float"
   ]
  },
  {
   "cell_type": "code",
   "execution_count": 3,
   "id": "f22bfeb9-8529-456d-8235-1cb0fabb4082",
   "metadata": {},
   "outputs": [
    {
     "name": "stderr",
     "output_type": "stream",
     "text": [
      "<ipython-input-3-15fd0dbc3151>:3: FutureWarning: The default value of regex will change from True to False in a future version. In addition, single character regular expressions will*not* be treated as literal strings when regex=True.\n",
      "  df[i] = df[i].str.replace('$','')\n"
     ]
    }
   ],
   "source": [
    "def remove_design(col_name_list,df):\n",
    "    for i in col_name_list:\n",
    "        df[i] = df[i].str.replace('$','')\n",
    "        df[i] = df[i].astype(\"float\")\n",
    "col_name_list = ['Projected Annual Salary', 'Q1 Payments', 'Q2 Payments','Q3 Payments', 'Q4 Payments', 'Payments Over Base Pay',\n",
    "          'Total Payments','Base Pay','Permanent Bonus Pay','Longevity Bonus Pay','Temporary Bonus Pay','Overtime Pay',\n",
    "          'Other Pay & Adjustments','Other Pay (Payroll Explorer)','Average Health Cost','Average Dental Cost',\n",
    "          'Average Basic Life','Average Benefit Cost' ]\n",
    "remove_design(col_name_list,df)"
   ]
  },
  {
   "cell_type": "code",
   "execution_count": 11,
   "id": "12e85966-00fa-4957-a9c7-6476c248388c",
   "metadata": {},
   "outputs": [
    {
     "data": {
      "text/html": [
       "<div>\n",
       "<style scoped>\n",
       "    .dataframe tbody tr th:only-of-type {\n",
       "        vertical-align: middle;\n",
       "    }\n",
       "\n",
       "    .dataframe tbody tr th {\n",
       "        vertical-align: top;\n",
       "    }\n",
       "\n",
       "    .dataframe thead th {\n",
       "        text-align: right;\n",
       "    }\n",
       "</style>\n",
       "<table border=\"1\" class=\"dataframe\">\n",
       "  <thead>\n",
       "    <tr style=\"text-align: right;\">\n",
       "      <th></th>\n",
       "      <th>Row ID</th>\n",
       "      <th>Year</th>\n",
       "      <th>Department Title</th>\n",
       "      <th>Payroll Department</th>\n",
       "      <th>Record Number</th>\n",
       "      <th>Job Class Title</th>\n",
       "      <th>Employment Type</th>\n",
       "      <th>Hourly or Event Rate</th>\n",
       "      <th>Projected Annual Salary</th>\n",
       "      <th>Q1 Payments</th>\n",
       "      <th>...</th>\n",
       "      <th>MOU Title</th>\n",
       "      <th>FMS Department</th>\n",
       "      <th>Job Class</th>\n",
       "      <th>Pay Grade</th>\n",
       "      <th>Average Health Cost</th>\n",
       "      <th>Average Dental Cost</th>\n",
       "      <th>Average Basic Life</th>\n",
       "      <th>Average Benefit Cost</th>\n",
       "      <th>Benefits Plan</th>\n",
       "      <th>Job Class Link</th>\n",
       "    </tr>\n",
       "  </thead>\n",
       "  <tbody>\n",
       "    <tr>\n",
       "      <th>1</th>\n",
       "      <td>31732</td>\n",
       "      <td>2013</td>\n",
       "      <td>Police (LAPD)</td>\n",
       "      <td>4301.0</td>\n",
       "      <td>432728338</td>\n",
       "      <td>Police Officer I</td>\n",
       "      <td>Full Time</td>\n",
       "      <td>$25.12</td>\n",
       "      <td>52450.56</td>\n",
       "      <td>11331.00</td>\n",
       "      <td>...</td>\n",
       "      <td>POLICE OFFICERS UNIT</td>\n",
       "      <td>70</td>\n",
       "      <td>2214</td>\n",
       "      <td>A</td>\n",
       "      <td>11651.40</td>\n",
       "      <td>898.08</td>\n",
       "      <td>191.04</td>\n",
       "      <td>12740.52</td>\n",
       "      <td>Police</td>\n",
       "      <td>http://per.lacity.org/perspecs/2214.pdf</td>\n",
       "    </tr>\n",
       "    <tr>\n",
       "      <th>2</th>\n",
       "      <td>27697</td>\n",
       "      <td>2013</td>\n",
       "      <td>Police (LAPD)</td>\n",
       "      <td>4301.0</td>\n",
       "      <td>97182506</td>\n",
       "      <td>Police Officer II</td>\n",
       "      <td>Full Time</td>\n",
       "      <td>$42.77</td>\n",
       "      <td>89303.76</td>\n",
       "      <td>20036.32</td>\n",
       "      <td>...</td>\n",
       "      <td>POLICE OFFICERS UNIT</td>\n",
       "      <td>70</td>\n",
       "      <td>2214</td>\n",
       "      <td>2</td>\n",
       "      <td>11651.40</td>\n",
       "      <td>898.08</td>\n",
       "      <td>191.04</td>\n",
       "      <td>12740.52</td>\n",
       "      <td>Police</td>\n",
       "      <td>http://per.lacity.org/perspecs/2214.pdf</td>\n",
       "    </tr>\n",
       "    <tr>\n",
       "      <th>3</th>\n",
       "      <td>14136</td>\n",
       "      <td>2013</td>\n",
       "      <td>Harbor (Port of LA)</td>\n",
       "      <td>3201.0</td>\n",
       "      <td>950136941</td>\n",
       "      <td>Senior Security Officer</td>\n",
       "      <td>Full Time</td>\n",
       "      <td>$28.75</td>\n",
       "      <td>60028.96</td>\n",
       "      <td>15793.88</td>\n",
       "      <td>...</td>\n",
       "      <td>SUPV BLUE COLLAR</td>\n",
       "      <td>42</td>\n",
       "      <td>3184</td>\n",
       "      <td>0</td>\n",
       "      <td>10710.24</td>\n",
       "      <td>405.24</td>\n",
       "      <td>11.40</td>\n",
       "      <td>11126.88</td>\n",
       "      <td>City</td>\n",
       "      <td>http://per.lacity.org/perspecs/3184.pdf</td>\n",
       "    </tr>\n",
       "    <tr>\n",
       "      <th>4</th>\n",
       "      <td>91896</td>\n",
       "      <td>2014</td>\n",
       "      <td>Public Works - Sanitation</td>\n",
       "      <td>7024.0</td>\n",
       "      <td>3230003445</td>\n",
       "      <td>Senior Clerk Typist</td>\n",
       "      <td>Full Time</td>\n",
       "      <td>$30.92</td>\n",
       "      <td>64553.13</td>\n",
       "      <td>14700.00</td>\n",
       "      <td>...</td>\n",
       "      <td>CLERICAL UNIT</td>\n",
       "      <td>82</td>\n",
       "      <td>1368</td>\n",
       "      <td>0</td>\n",
       "      <td>11000.40</td>\n",
       "      <td>409.68</td>\n",
       "      <td>11.40</td>\n",
       "      <td>11421.48</td>\n",
       "      <td>City</td>\n",
       "      <td>http://per.lacity.org/perspecs/1368.pdf</td>\n",
       "    </tr>\n",
       "    <tr>\n",
       "      <th>6</th>\n",
       "      <td>59695</td>\n",
       "      <td>2014</td>\n",
       "      <td>Airports (LAWA)</td>\n",
       "      <td>101.0</td>\n",
       "      <td>4237826094</td>\n",
       "      <td>Custodian - Airports</td>\n",
       "      <td>Full Time</td>\n",
       "      <td>$22.95</td>\n",
       "      <td>47911.51</td>\n",
       "      <td>13493.87</td>\n",
       "      <td>...</td>\n",
       "      <td>SERVICE EMPLOYEES UNIT</td>\n",
       "      <td>4</td>\n",
       "      <td>3156</td>\n",
       "      <td>A</td>\n",
       "      <td>11000.40</td>\n",
       "      <td>409.68</td>\n",
       "      <td>11.40</td>\n",
       "      <td>11421.48</td>\n",
       "      <td>City</td>\n",
       "      <td>http://per.lacity.org/perspecs/3156.pdf</td>\n",
       "    </tr>\n",
       "  </tbody>\n",
       "</table>\n",
       "<p>5 rows × 35 columns</p>\n",
       "</div>"
      ],
      "text/plain": [
       "   Row ID  Year           Department Title  Payroll Department Record Number  \\\n",
       "1   31732  2013              Police (LAPD)              4301.0     432728338   \n",
       "2   27697  2013              Police (LAPD)              4301.0      97182506   \n",
       "3   14136  2013        Harbor (Port of LA)              3201.0     950136941   \n",
       "4   91896  2014  Public Works - Sanitation              7024.0    3230003445   \n",
       "6   59695  2014            Airports (LAWA)               101.0    4237826094   \n",
       "\n",
       "           Job Class Title Employment Type Hourly or Event Rate  \\\n",
       "1         Police Officer I       Full Time               $25.12   \n",
       "2        Police Officer II       Full Time               $42.77   \n",
       "3  Senior Security Officer       Full Time               $28.75   \n",
       "4      Senior Clerk Typist       Full Time               $30.92   \n",
       "6     Custodian - Airports       Full Time               $22.95   \n",
       "\n",
       "   Projected Annual Salary  Q1 Payments  ...               MOU Title  \\\n",
       "1                 52450.56     11331.00  ...    POLICE OFFICERS UNIT   \n",
       "2                 89303.76     20036.32  ...    POLICE OFFICERS UNIT   \n",
       "3                 60028.96     15793.88  ...        SUPV BLUE COLLAR   \n",
       "4                 64553.13     14700.00  ...           CLERICAL UNIT   \n",
       "6                 47911.51     13493.87  ...  SERVICE EMPLOYEES UNIT   \n",
       "\n",
       "   FMS Department  Job Class  Pay Grade Average Health Cost  \\\n",
       "1              70       2214          A            11651.40   \n",
       "2              70       2214          2            11651.40   \n",
       "3              42       3184          0            10710.24   \n",
       "4              82       1368          0            11000.40   \n",
       "6               4       3156          A            11000.40   \n",
       "\n",
       "   Average Dental Cost  Average Basic Life  Average Benefit Cost  \\\n",
       "1               898.08              191.04              12740.52   \n",
       "2               898.08              191.04              12740.52   \n",
       "3               405.24               11.40              11126.88   \n",
       "4               409.68               11.40              11421.48   \n",
       "6               409.68               11.40              11421.48   \n",
       "\n",
       "   Benefits Plan                           Job Class Link  \n",
       "1         Police  http://per.lacity.org/perspecs/2214.pdf  \n",
       "2         Police  http://per.lacity.org/perspecs/2214.pdf  \n",
       "3           City  http://per.lacity.org/perspecs/3184.pdf  \n",
       "4           City  http://per.lacity.org/perspecs/1368.pdf  \n",
       "6           City  http://per.lacity.org/perspecs/3156.pdf  \n",
       "\n",
       "[5 rows x 35 columns]"
      ]
     },
     "execution_count": 11,
     "metadata": {},
     "output_type": "execute_result"
    }
   ],
   "source": [
    "df.head()"
   ]
  },
  {
   "cell_type": "markdown",
   "id": "985bd31d-07cb-46ed-8034-8c19c0a4e451",
   "metadata": {},
   "source": [
    "### Renaming"
   ]
  },
  {
   "cell_type": "code",
   "execution_count": 4,
   "id": "ce8780d4-1f65-4cad-ae1f-a467864bf182",
   "metadata": {},
   "outputs": [],
   "source": [
    "df.rename(columns={'Projected Annual Salary' : 'Annual_sal'}, inplace = True)\n",
    "df.rename(columns={'Base Pay' : 'Base_Pay'}, inplace = True)\n",
    "\n",
    "\n",
    "df = df[df.Annual_sal != 0]\n",
    "df = df[df.Base_Pay != 0]\n"
   ]
  },
  {
   "cell_type": "code",
   "execution_count": 13,
   "id": "9abb2aa1-8d4b-40d7-abcc-b9b04cdcae22",
   "metadata": {},
   "outputs": [
    {
     "name": "stdout",
     "output_type": "stream",
     "text": [
      "<class 'pandas.core.frame.DataFrame'>\n",
      "Int64Index: 228390 entries, 1 to 274160\n",
      "Data columns (total 35 columns):\n",
      " #   Column                        Non-Null Count   Dtype  \n",
      "---  ------                        --------------   -----  \n",
      " 0   Row ID                        228390 non-null  int64  \n",
      " 1   Year                          228390 non-null  int64  \n",
      " 2   Department Title              228390 non-null  object \n",
      " 3   Payroll Department            228390 non-null  float64\n",
      " 4   Record Number                 228390 non-null  object \n",
      " 5   Job Class Title               228390 non-null  object \n",
      " 6   Employment Type               228390 non-null  object \n",
      " 7   Hourly or Event Rate          228390 non-null  object \n",
      " 8   Annual_sal                    228390 non-null  float64\n",
      " 9   Q1 Payments                   228390 non-null  float64\n",
      " 10  Q2 Payments                   228390 non-null  float64\n",
      " 11  Q3 Payments                   228390 non-null  float64\n",
      " 12  Q4 Payments                   228390 non-null  float64\n",
      " 13  Payments Over Base Pay        228390 non-null  float64\n",
      " 14  % Over Base Pay               228390 non-null  object \n",
      " 15  Total Payments                228390 non-null  float64\n",
      " 16  Base_Pay                      228390 non-null  float64\n",
      " 17  Permanent Bonus Pay           228390 non-null  float64\n",
      " 18  Longevity Bonus Pay           228390 non-null  float64\n",
      " 19  Temporary Bonus Pay           228390 non-null  float64\n",
      " 20  Lump Sum Pay                  228390 non-null  object \n",
      " 21  Overtime Pay                  228390 non-null  float64\n",
      " 22  Other Pay & Adjustments       228390 non-null  float64\n",
      " 23  Other Pay (Payroll Explorer)  228390 non-null  float64\n",
      " 24  MOU                           228390 non-null  object \n",
      " 25  MOU Title                     228390 non-null  object \n",
      " 26  FMS Department                228390 non-null  int64  \n",
      " 27  Job Class                     228390 non-null  int64  \n",
      " 28  Pay Grade                     185140 non-null  object \n",
      " 29  Average Health Cost           228390 non-null  float64\n",
      " 30  Average Dental Cost           228390 non-null  float64\n",
      " 31  Average Basic Life            228390 non-null  float64\n",
      " 32  Average Benefit Cost          228390 non-null  float64\n",
      " 33  Benefits Plan                 191084 non-null  object \n",
      " 34  Job Class Link                228390 non-null  object \n",
      "dtypes: float64(19), int64(4), object(12)\n",
      "memory usage: 62.7+ MB\n"
     ]
    }
   ],
   "source": [
    "df.info()"
   ]
  },
  {
   "cell_type": "code",
   "execution_count": 8,
   "id": "730c9d95-3da0-4add-8e84-fba259a758a2",
   "metadata": {},
   "outputs": [
    {
     "name": "stderr",
     "output_type": "stream",
     "text": [
      "C:\\Users\\intwa\\anaconda3\\lib\\site-packages\\seaborn\\distributions.py:2557: FutureWarning: `distplot` is a deprecated function and will be removed in a future version. Please adapt your code to use either `displot` (a figure-level function with similar flexibility) or `histplot` (an axes-level function for histograms).\n",
      "  warnings.warn(msg, FutureWarning)\n",
      "C:\\Users\\intwa\\anaconda3\\lib\\site-packages\\seaborn\\distributions.py:2557: FutureWarning: `distplot` is a deprecated function and will be removed in a future version. Please adapt your code to use either `displot` (a figure-level function with similar flexibility) or `histplot` (an axes-level function for histograms).\n",
      "  warnings.warn(msg, FutureWarning)\n"
     ]
    },
    {
     "data": {
      "text/plain": [
       "<AxesSubplot:xlabel='Base_Pay', ylabel='Density'>"
      ]
     },
     "execution_count": 8,
     "metadata": {},
     "output_type": "execute_result"
    },
    {
     "data": {
      "image/png": "[encoded data removed]",
      "text/plain": [
       "<Figure size 576x288 with 1 Axes>"
      ]
     },
     "metadata": {
      "needs_background": "light"
     },
     "output_type": "display_data"
    },
    {
     "data": {
      "image/png": "[encoded data removed]",
      "text/plain": [
       "<Figure size 576x288 with 1 Axes>"
      ]
     },
     "metadata": {
      "needs_background": "light"
     },
     "output_type": "display_data"
    }
   ],
   "source": [
    "plt.figure(figsize = (8,4))\n",
    "sns.distplot(df.Annual_sal,color = 'darkorange')\n",
    "plt.figure(figsize = (8,4))\n",
    "sns.distplot(df.Base_Pay, color = 'darkgreen')"
   ]
  },
  {
   "cell_type": "code",
   "execution_count": 15,
   "id": "276dc819-be3c-41af-9531-5b94f8a928fa",
   "metadata": {},
   "outputs": [
    {
     "data": {
      "image/png": "[encoded data removed]",
      "text/plain": [
       "<Figure size 360x360 with 1 Axes>"
      ]
     },
     "metadata": {
      "needs_background": "light"
     },
     "output_type": "display_data"
    }
   ],
   "source": [
    "df_2013 = df[df.Year == 2013]\n",
    "df_2014 = df[df.Year == 2014]\n",
    "df_2015 = df[df.Year ==2015]\n",
    "df_2016 = df[df.Year ==2016]\n",
    "\n",
    "\n",
    "plt.figure(figsize =(5,5))\n",
    "\n",
    "plt.bar(['2013','2014','2015','2016'], [np.mean(df_2013['Annual_sal']),np.mean(df_2014['Annual_sal']),np.mean(df_2015['Annual_sal']),np.mean(df_2016['Annual_sal'])], label='Annual Pay', color= 'b',width=0.5)\n",
    "plt.bar(['2013','2014','2015','2016'], [np.mean(df_2013['Base_Pay']),np.mean(df_2014['Base_Pay']),np.mean(df_2015['Base_Pay']),np.mean(df_2016['Base_Pay'])], label='Base Pay', color= 'y',width=0.5)\n",
    "plt.xlabel('Year', fontweight ='bold', fontsize = 15)\n",
    "plt.ylabel('Mean Pay', fontweight ='bold', fontsize = 15)\n",
    "plt.title('Variation in Annaul Pay & Base Pay')\n",
    "plt.legend()\n",
    "plt.show()\n"
   ]
  },
  {
   "cell_type": "code",
   "execution_count": 16,
   "id": "2efe4dd8-2bc2-4f38-bc00-28b744add3b7",
   "metadata": {},
   "outputs": [
    {
     "data": {
      "text/plain": [
       "Row ID                          228390\n",
       "Year                                 4\n",
       "Department Title                    57\n",
       "Payroll Department                 182\n",
       "Record Number                    89721\n",
       "Job Class Title                   1392\n",
       "Employment Type                      2\n",
       "Hourly or Event Rate              4838\n",
       "Annual_sal                        8517\n",
       "Q1 Payments                     132029\n",
       "Q2 Payments                     129340\n",
       "Q3 Payments                     102682\n",
       "Q4 Payments                      98169\n",
       "Payments Over Base Pay          160705\n",
       "% Over Base Pay                  13184\n",
       "Total Payments                  204596\n",
       "Base_Pay                        130027\n",
       "Permanent Bonus Pay              56639\n",
       "Longevity Bonus Pay              33266\n",
       "Temporary Bonus Pay              21085\n",
       "Lump Sum Pay                     22151\n",
       "Overtime Pay                     97986\n",
       "Other Pay & Adjustments          38063\n",
       "Other Pay (Payroll Explorer)    126728\n",
       "MOU                                 84\n",
       "MOU Title                          122\n",
       "FMS Department                      40\n",
       "Job Class                          951\n",
       "Pay Grade                           35\n",
       "Average Health Cost                 13\n",
       "Average Dental Cost                 12\n",
       "Average Basic Life                  11\n",
       "Average Benefit Cost                13\n",
       "Benefits Plan                        3\n",
       "Job Class Link                     951\n",
       "dtype: int64"
      ]
     },
     "execution_count": 16,
     "metadata": {},
     "output_type": "execute_result"
    }
   ],
   "source": [
    "df.apply(lambda x : x.nunique())"
   ]
  },
  {
   "cell_type": "markdown",
   "id": "a9f089ce-294d-4c40-9cad-4bf9e094ff9c",
   "metadata": {},
   "source": [
    "### Scaling"
   ]
  },
  {
   "cell_type": "code",
   "execution_count": 10,
   "id": "897dad0c-7f59-440b-9e22-a91ab17aa2eb",
   "metadata": {},
   "outputs": [
    {
     "data": {
      "text/plain": [
       "array([[-0.7535812 , -0.62541992, -0.17013536, ...,  1.36372385,\n",
       "         1.59189865,  0.59832384],\n",
       "       [ 0.35676113,  0.02270345,  0.48696635, ...,  1.36372385,\n",
       "         1.59189865,  0.59832384],\n",
       "       [-0.52525318, -0.2931522 ,  0.15095696, ..., -0.20426411,\n",
       "        -0.60326938,  0.27468941],\n",
       "       ...,\n",
       "       [ 0.86577288, -1.13579998, -0.6635148 , ..., -1.49354956,\n",
       "        -0.7425753 , -1.9569369 ],\n",
       "       [ 0.78013812, -1.46902887, -0.94954173, ..., -1.49354956,\n",
       "        -0.7425753 , -1.9569369 ],\n",
       "       [ 0.78013812, -1.31424438, -0.7618744 , ..., -1.49354956,\n",
       "        -0.7425753 , -1.9569369 ]])"
      ]
     },
     "execution_count": 10,
     "metadata": {},
     "output_type": "execute_result"
    }
   ],
   "source": [
    "from sklearn.preprocessing import scale\n",
    "num_scaled = scale(df[['Annual_sal','Q1 Payments','Q2 Payments','Q3 Payments','Q4 Payments', 'Payments Over Base Pay', 'Total Payments', 'Base_Pay', 'Permanent Bonus Pay', 'Longevity Bonus Pay', 'Temporary Bonus Pay', 'Overtime Pay', 'Other Pay & Adjustments','Other Pay (Payroll Explorer)', 'Average Health Cost','Average Dental Cost','Average Basic Life','Average Benefit Cost']],copy=False)\n",
    "num_scaled\n"
   ]
  },
  {
   "cell_type": "code",
   "execution_count": 11,
   "id": "032cfe0e-9cc1-43c6-b974-32dca7baa379",
   "metadata": {},
   "outputs": [
    {
     "data": {
      "text/html": [
       "<div>\n",
       "<style scoped>\n",
       "    .dataframe tbody tr th:only-of-type {\n",
       "        vertical-align: middle;\n",
       "    }\n",
       "\n",
       "    .dataframe tbody tr th {\n",
       "        vertical-align: top;\n",
       "    }\n",
       "\n",
       "    .dataframe thead th {\n",
       "        text-align: right;\n",
       "    }\n",
       "</style>\n",
       "<table border=\"1\" class=\"dataframe\">\n",
       "  <thead>\n",
       "    <tr style=\"text-align: right;\">\n",
       "      <th></th>\n",
       "      <th>count</th>\n",
       "      <th>mean</th>\n",
       "      <th>std</th>\n",
       "      <th>min</th>\n",
       "      <th>25%</th>\n",
       "      <th>50%</th>\n",
       "      <th>75%</th>\n",
       "      <th>max</th>\n",
       "    </tr>\n",
       "    <tr>\n",
       "      <th>Year</th>\n",
       "      <th></th>\n",
       "      <th></th>\n",
       "      <th></th>\n",
       "      <th></th>\n",
       "      <th></th>\n",
       "      <th></th>\n",
       "      <th></th>\n",
       "      <th></th>\n",
       "    </tr>\n",
       "  </thead>\n",
       "  <tbody>\n",
       "    <tr>\n",
       "      <th>2013</th>\n",
       "      <td>46394.0</td>\n",
       "      <td>74917.250568</td>\n",
       "      <td>32482.466873</td>\n",
       "      <td>20003.04</td>\n",
       "      <td>49918.2075</td>\n",
       "      <td>73515.87</td>\n",
       "      <td>95212.80</td>\n",
       "      <td>360743.76</td>\n",
       "    </tr>\n",
       "    <tr>\n",
       "      <th>2014</th>\n",
       "      <td>45619.0</td>\n",
       "      <td>77638.194367</td>\n",
       "      <td>32835.063205</td>\n",
       "      <td>1.04</td>\n",
       "      <td>52847.2800</td>\n",
       "      <td>76758.53</td>\n",
       "      <td>98344.80</td>\n",
       "      <td>360743.76</td>\n",
       "    </tr>\n",
       "    <tr>\n",
       "      <th>2015</th>\n",
       "      <td>48063.0</td>\n",
       "      <td>76401.008000</td>\n",
       "      <td>33943.842879</td>\n",
       "      <td>1.04</td>\n",
       "      <td>50138.1000</td>\n",
       "      <td>74813.04</td>\n",
       "      <td>97655.76</td>\n",
       "      <td>360743.76</td>\n",
       "    </tr>\n",
       "    <tr>\n",
       "      <th>2016</th>\n",
       "      <td>88314.0</td>\n",
       "      <td>79286.681083</td>\n",
       "      <td>33217.213326</td>\n",
       "      <td>18792.00</td>\n",
       "      <td>54300.0100</td>\n",
       "      <td>77561.89</td>\n",
       "      <td>100307.52</td>\n",
       "      <td>345731.04</td>\n",
       "    </tr>\n",
       "  </tbody>\n",
       "</table>\n",
       "</div>"
      ],
      "text/plain": [
       "        count          mean           std       min         25%       50%  \\\n",
       "Year                                                                        \n",
       "2013  46394.0  74917.250568  32482.466873  20003.04  49918.2075  73515.87   \n",
       "2014  45619.0  77638.194367  32835.063205      1.04  52847.2800  76758.53   \n",
       "2015  48063.0  76401.008000  33943.842879      1.04  50138.1000  74813.04   \n",
       "2016  88314.0  79286.681083  33217.213326  18792.00  54300.0100  77561.89   \n",
       "\n",
       "            75%        max  \n",
       "Year                        \n",
       "2013   95212.80  360743.76  \n",
       "2014   98344.80  360743.76  \n",
       "2015   97655.76  360743.76  \n",
       "2016  100307.52  345731.04  "
      ]
     },
     "execution_count": 11,
     "metadata": {},
     "output_type": "execute_result"
    }
   ],
   "source": [
    "df.groupby('Year')['Annual_sal'].describe()\n"
   ]
  },
  {
   "cell_type": "markdown",
   "id": "a83049d5-a6fe-402f-b722-13c6d0c2fbf3",
   "metadata": {},
   "source": [
    "### Sampling"
   ]
  },
  {
   "cell_type": "code",
   "execution_count": 12,
   "id": "8547340f-e402-45eb-b258-4a5ec5779955",
   "metadata": {},
   "outputs": [
    {
     "name": "stdout",
     "output_type": "stream",
     "text": [
      "(46394, 35) (45619, 35)\n"
     ]
    }
   ],
   "source": [
    "sample_1 = df[df['Year']==2013]\n",
    "sample_2 = df[df['Year']==2014]\n",
    "sample_3 = df[df['Year']==2015]\n",
    "sample_4 = df[df['Year']==2016]\n",
    "\n",
    "print(sample_1.shape, sample_2.shape)"
   ]
  },
  {
   "cell_type": "code",
   "execution_count": 13,
   "id": "562e164a-5add-4079-8c71-4d900711c8bb",
   "metadata": {},
   "outputs": [
    {
     "name": "stdout",
     "output_type": "stream",
     "text": [
      "(45619, 35) (45619, 35)\n"
     ]
    }
   ],
   "source": [
    "#make equal number of samples\n",
    "sample_1=sample_1.sample(45619)\n",
    "print(sample_1.shape, sample_2.shape)"
   ]
  },
  {
   "cell_type": "markdown",
   "id": "ee8ffaee-09c3-43ef-88e9-62fc1ca2e7a3",
   "metadata": {},
   "source": [
    "#Before directly jumping for hypothesis testing we have to check for different assumptions related to the kind of\n",
    "hypothesis test we want to perform.\n",
    "##Assumption for T-Test\n",
    "1. The variances of the 2 samples are equal(We will use Levene's test to check this assumption).\n",
    "2. The distrubtion of the residuals b/w the two groups should follow the normal distribution. We can plot\n",
    "histogram and see whether the distribution follows the normal distribution or not. We can also plot a Q-Q\n",
    "plot. We can check the normality using shapiro-wilks test as well."
   ]
  },
  {
   "cell_type": "markdown",
   "id": "e3175c93-7bec-4ca8-a68d-c7e6e3efe847",
   "metadata": {},
   "source": [
    "#Levene's test to check whether the variances of the two group are same.\n",
    "#H0 : Variances are same\n",
    "#H1 : Variances are not same.\n",
    "#Alpha = 0.05\n",
    "#if p-value > alpha (Cannot reject H0)\n",
    "#if p-value < alpha (Accept null hypothesis)"
   ]
  },
  {
   "cell_type": "markdown",
   "id": "8d7dfb07-b374-4ddf-bb91-814259b5b82b",
   "metadata": {},
   "source": [
    "### Levene's Test"
   ]
  },
  {
   "cell_type": "code",
   "execution_count": 14,
   "id": "53f755ce-0108-4968-8301-747448034ae9",
   "metadata": {},
   "outputs": [
    {
     "name": "stdout",
     "output_type": "stream",
     "text": [
      " Test Statistics : 0.7188969972368765 \n",
      " Alpha : 0.05 \n",
      " P-value : 0.3965081768704949\n",
      "Variances are same accept null hypothesis \n"
     ]
    }
   ],
   "source": [
    "alpha = 0.05\n",
    "Stats, Pvalue = stats.levene(sample_1['Annual_sal'], sample_2['Annual_sal'])\n",
    "print(f' Test Statistics : {Stats} \\n Alpha : {alpha} \\n P-value : {Pvalue}')\n",
    "if Pvalue  > alpha:\n",
    "    print('Variances are same accept null hypothesis ')\n",
    "else:\n",
    "    print('Variances are not same reject not null hypothesis ')\n",
    "    "
   ]
  },
  {
   "cell_type": "markdown",
   "id": "ec44d2db-baea-49ef-b71f-7cb96f46c187",
   "metadata": {},
   "source": [
    "Here we have got 2 things:\n",
    "1. Test Statistics\n",
    "2. And p-value assosciated with test stastics. We can see that p-value(0.4165) > alpha(0.05). So we fail to reject\n",
    "the null hypothesis. Variances of the 2 samples are equal.\n",
    "###Check for normality\n",
    "Take the difference between two samples and scale it to check the normality of the residuals."
   ]
  },
  {
   "cell_type": "markdown",
   "id": "1fdf13b4-f87c-4d74-a396-8914ee26e0c2",
   "metadata": {},
   "source": [
    "### Plotting Histogram and Q-Q Plot"
   ]
  },
  {
   "cell_type": "code",
   "execution_count": 18,
   "id": "f35a425f-dbe6-43f1-bb9f-e444a5e5782f",
   "metadata": {},
   "outputs": [
    {
     "data": {
      "image/png": "[encoded data removed]",
      "text/plain": [
       "<Figure size 576x288 with 1 Axes>"
      ]
     },
     "metadata": {
      "needs_background": "light"
     },
     "output_type": "display_data"
    }
   ],
   "source": [
    "diff = scale(np.array(sample_1['Annual_sal']-np.array(sample_2['Annual_sal'])))\n",
    "plt.figure(figsize=(8,4))\n",
    "plt.hist(diff)\n",
    "plt.title('Histogram Plot')\n",
    "plt.show()"
   ]
  },
  {
   "cell_type": "markdown",
   "id": "57781053-f200-4319-8956-36fee2fd10c8",
   "metadata": {},
   "source": [
    "The distribution seems very close to normal distribution. Let's check other methods to check the normality of the\n",
    "residuals.\n",
    "Q-Q plot, Generates the a probability of sample data against the quantiles of theoretical distributions."
   ]
  },
  {
   "cell_type": "code",
   "execution_count": 16,
   "id": "f0dc9a5d-4582-4fe4-964f-f9f750dadccb",
   "metadata": {},
   "outputs": [
    {
     "data": {
      "image/png": "[encoded data removed]",
      "text/plain": [
       "<Figure size 576x432 with 1 Axes>"
      ]
     },
     "metadata": {
      "needs_background": "light"
     },
     "output_type": "display_data"
    }
   ],
   "source": [
    "# q-q plot\n",
    "plt.figure(figsize=(8,6))\n",
    "stats.probplot(diff,plot =plt, dist='norm')\n",
    "plt.show()"
   ]
  },
  {
   "cell_type": "markdown",
   "id": "4b40a765-2a2f-45be-be92-cf45f09c49a5",
   "metadata": {},
   "source": [
    "### Shapiro-Wilk test - checking normality analytically"
   ]
  },
  {
   "cell_type": "code",
   "execution_count": 24,
   "id": "dd255981-3114-43d2-be4a-660a982bb7c4",
   "metadata": {},
   "outputs": [
    {
     "name": "stdout",
     "output_type": "stream",
     "text": [
      "Reject Null Hypothesis p-value: 1.0729137342718267e-33\n"
     ]
    },
    {
     "name": "stderr",
     "output_type": "stream",
     "text": [
      "C:\\Users\\intwa\\anaconda3\\lib\\site-packages\\scipy\\stats\\morestats.py:1760: UserWarning: p-value may not be accurate for N > 5000.\n",
      "  warnings.warn(\"p-value may not be accurate for N > 5000.\")\n"
     ]
    }
   ],
   "source": [
    "\n",
    "#H0 : Normally Distributes\n",
    "#h1 : Not Normally Distributed\n",
    "alpha = 0.05\n",
    "statistic, p_value = stats.shapiro(diff)\n",
    "if p_value > alpha:\n",
    "    print(f'Accept Null Hypothesis p-value: {p_value}')\n",
    "else:\n",
    "    print(f'Reject Null Hypothesis p-value: {p_value}')\n",
    "    "
   ]
  },
  {
   "cell_type": "markdown",
   "id": "601228d1-4627-4f7c-9a80-cc99c1ad7b7d",
   "metadata": {},
   "source": [
    "### Not normally distributed so cannot apply T-test"
   ]
  },
  {
   "cell_type": "markdown",
   "id": "9b339507-3380-40bd-b813-a66925409647",
   "metadata": {},
   "source": [
    "# Comparing Means"
   ]
  },
  {
   "cell_type": "markdown",
   "id": "3d1d3007-aa1e-4ca1-97d9-9ddcb3a33b56",
   "metadata": {},
   "source": [
    "## Student's t-test"
   ]
  },
  {
   "cell_type": "code",
   "execution_count": 211,
   "id": "35723bb1-9ee6-40e4-b0b5-faa298242210",
   "metadata": {},
   "outputs": [
    {
     "name": "stdout",
     "output_type": "stream",
     "text": [
      "(48063, 35) (48063, 35)\n"
     ]
    }
   ],
   "source": [
    "print(sample_3.shape, sample_4.shape)"
   ]
  },
  {
   "cell_type": "code",
   "execution_count": 212,
   "id": "bba71548-d3ce-4c5b-8977-fa70938cc512",
   "metadata": {},
   "outputs": [
    {
     "name": "stdout",
     "output_type": "stream",
     "text": [
      "(48063, 35) (48063, 35)\n"
     ]
    }
   ],
   "source": [
    "population_mean=np.mean(sample_4['Base_Pay'])\n",
    "sample_4= sample_4.sample(48063)\n",
    "print(sample_4.shape, sample_3.shape)"
   ]
  },
  {
   "cell_type": "code",
   "execution_count": 213,
   "id": "66e5ddc5-c9e8-4e61-b880-ee5a9e010fba",
   "metadata": {},
   "outputs": [
    {
     "data": {
      "image/png": "[encoded data removed]",
      "text/plain": [
       "<Figure size 576x432 with 1 Axes>"
      ]
     },
     "metadata": {
      "needs_background": "light"
     },
     "output_type": "display_data"
    }
   ],
   "source": [
    "plt.figure(figsize=(8,6))\n",
    "sns.kdeplot(sample_1['Base_Pay'], shade=True)\n",
    "sns.kdeplot(sample_2['Base_Pay'], shade=True)\n",
    "sns.kdeplot(sample_3['Base_Pay'], shade=True)\n",
    "sns.kdeplot(sample_4['Base_Pay'], shade=True)\n",
    "plt.legend(['2013','2014','2015','2016'], fontsize=14)\n",
    "plt.vlines(x= np.mean(sample_1['Base_Pay']),ymin=0, ymax=0.00004 ,color='yellow', linestyle='--')\n",
    "plt.vlines(x= np.mean(sample_2['Base_Pay']), ymin=0, ymax=0.00004, color='green', linestyle='--')\n",
    "\n",
    "plt.vlines(x= np.mean(sample_3['Base_Pay']),ymin=0, ymax=0.00004 ,color='blue', linestyle='--')\n",
    "plt.vlines(x= np.mean(sample_4['Base_Pay']), ymin=0, ymax=0.00004, color='brown', linestyle='--')\n",
    "plt.show()\n"
   ]
  },
  {
   "cell_type": "markdown",
   "id": "d7150fc7-66d5-4e7f-bc6e-6e3a946bcc26",
   "metadata": {},
   "source": [
    "2013-2015 there is no major change in mean, so comparing between 2015 & 2016"
   ]
  },
  {
   "cell_type": "code",
   "execution_count": 215,
   "id": "8675fb21-4ac3-4858-8e89-4a51fb2ea53c",
   "metadata": {},
   "outputs": [
    {
     "name": "stdout",
     "output_type": "stream",
     "text": [
      "Standard error of the mean:  187.1352511597253\n",
      "Z-Statistic:  -197.41562010482323\n"
     ]
    }
   ],
   "source": [
    "std_err = np.std(sample_3['Base_Pay'])/np.sqrt(48063)\n",
    "z_stat = (np.mean(sample_4['Base_Pay'])-np.mean(sample_3['Base_Pay']))/std_err\n",
    "\n",
    "print(\"Standard error of the mean: \", std_err)\n",
    "print(\"Z-Statistic: \",z_stat)"
   ]
  },
  {
   "cell_type": "code",
   "execution_count": 217,
   "id": "5bbc4fb2-d30a-4f19-a167-d89952a86c20",
   "metadata": {},
   "outputs": [],
   "source": [
    "alpha = 0.05\n",
    "rejection_threshold = stats.norm.ppf(1-alpha)\n"
   ]
  },
  {
   "cell_type": "code",
   "execution_count": 219,
   "id": "4a4b4f82-c5ac-4822-96b3-293653c96bb6",
   "metadata": {},
   "outputs": [
    {
     "name": "stdout",
     "output_type": "stream",
     "text": [
      "We cannot reject the NULL Hypothesis: Base Pay is increasing in 2016\n"
     ]
    }
   ],
   "source": [
    "if z_stat > rejection_threshold:\n",
    "    print(\"We reject the NULL Hypothesis: Base Pay is not increasing in 2016\")\n",
    "else:\n",
    "    print(\"We cannot reject the NULL Hypothesis: Base Pay is increasing in 2016\")\n",
    "    "
   ]
  },
  {
   "cell_type": "markdown",
   "id": "f80fbe49-8a49-49bc-ad9c-76a42ecdabec",
   "metadata": {},
   "source": [
    "## Student's Independent T-test"
   ]
  },
  {
   "cell_type": "code",
   "execution_count": 25,
   "id": "038859b8-c31a-4a4d-85f2-1f96f81561eb",
   "metadata": {},
   "outputs": [],
   "source": [
    "def independent_ttest(data1, data2, alpha=0.05):\n",
    "    import scipy.stats as st\n",
    "    # calculate means\n",
    "    mean1, mean2 = np.mean(data1), np.mean(data2)\n",
    "    # calculate standard errors\n",
    "    se1, se2 = st.sem(data1), st.sem(data2)\n",
    "    # standard error on the difference between the samples\n",
    "    sed = np.sqrt(se1**2.0 + se2**2.0)\n",
    "    # calculate the t statistic\n",
    "    t_stat = (mean1 - mean2) / sed\n",
    "    # degrees of freedom\n",
    "    df = len(data1) + len(data2) - 2\n",
    "    # calculate the critical value\n",
    "    cv = st.t.ppf(1.0 - alpha, df)\n",
    "    # calculate the p-value\n",
    "    p = (1.0 - st.t.cdf(abs(t_stat), df)) * 2.0\n",
    "    # return everything\n",
    "    return t_stat, df, cv, p\n"
   ]
  },
  {
   "cell_type": "code",
   "execution_count": 34,
   "id": "e95f4571-7870-480a-bbef-599c101c4da8",
   "metadata": {},
   "outputs": [
    {
     "data": {
      "image/png": "[encoded data removed]",
      "text/plain": [
       "<Figure size 576x432 with 1 Axes>"
      ]
     },
     "metadata": {
      "needs_background": "light"
     },
     "output_type": "display_data"
    }
   ],
   "source": [
    "data1 = sample_3['Base_Pay']\n",
    "data2 = sample_4['Base_Pay']\n",
    "\n",
    "plt.figure(figsize=(8,6))\n",
    "sns.kdeplot(data1, shade=True)\n",
    "sns.kdeplot(data2, shade=True)\n",
    "plt.legend(['data1','data2'], fontsize=14)\n",
    "plt.vlines(x=data1.mean(),ymin=0,ymax=0.00004,color='blue',linestyle='--')\n",
    "plt.vlines(x=data2.mean(),ymin=0,ymax=0.00004,color='brown',linestyle='--')\n",
    "plt.show()"
   ]
  },
  {
   "cell_type": "code",
   "execution_count": 36,
   "id": "eef349d6-dc16-4df2-aea1-6a2c8c6048bf",
   "metadata": {},
   "outputs": [
    {
     "name": "stdout",
     "output_type": "stream",
     "text": [
      "t=188.181, df=136375, cv=1.645, p=0.000\n",
      "\n",
      "Reject the null hypothesis that the means are equal.\n",
      "Reject the null hypothesis that the means are equal.\n"
     ]
    }
   ],
   "source": [
    "# calculate the t test\n",
    "alpha = 0.05\n",
    "t_stat, df, cv, p = independent_ttest(data1, data2, alpha)\n",
    "print('t=%.3f, df=%d, cv=%.3f, p=%.3f' % (t_stat, df, cv, p))\n",
    "print()\n",
    "# interpret via critical value\n",
    "if abs(t_stat) <= cv:\n",
    "    print('Fail to reject null hypothesis that the means are equal.')\n",
    "else:\n",
    "    print('Reject the null hypothesis that the means are equal.')\n",
    "# interpret via p-value\n",
    "if p > alpha:\n",
    "    print('Fail to reject null hypothesis that the means are equal.')\n",
    "else:\n",
    "    print('Reject the null hypothesis that the means are equal.')\n"
   ]
  },
  {
   "cell_type": "code",
   "execution_count": 41,
   "id": "2c95cab9-31e8-4607-909e-2eb379c512bf",
   "metadata": {},
   "outputs": [
    {
     "name": "stdout",
     "output_type": "stream",
     "text": [
      "\n",
      "We reject the hypothesis of equal mean for sample_1 and sample_2 as per ANOVA test result\n",
      "\n",
      "ANOVA fails to reject the hypothesis of equal mean for sample_1 and sample_3\n",
      "\n",
      "We reject the hypothesis of equal mean for sample_1 and sample_4 as per ANOVA test result\n",
      "\n",
      "We reject the hypothesis of equal mean for sample_2 and sample_3 as per ANOVA test result\n",
      "\n",
      "We reject the hypothesis of equal mean for sample_2 and sample_4 as per ANOVA test result\n",
      "\n",
      "We reject the hypothesis of equal mean for sample_3 and sample_4 as per ANOVA test result\n"
     ]
    }
   ],
   "source": [
    "'''One-way ANOVA between multiple groups\n",
    "groups: A dictionary object of trial groups'''\n",
    "def multi_anova(groups,alpha=0.05):\n",
    "    from itertools import combinations\n",
    "    import scipy.stats as st\n",
    "    list_anova = list(combinations(list(groups.keys()),2))\n",
    "    for comb in list_anova:\n",
    "        _,p=st.f_oneway(groups[comb[0]],groups[comb[1]])\n",
    "        if p>0.05:\n",
    "            print(\"\\nANOVA fails to reject the hypothesis of equal mean for {} and {}\".format(comb[0],comb[1]))\n",
    "        else:\n",
    "            print(\"\\nWe reject the hypothesis of equal mean for {} and {} as per ANOVA test result\".format(comb[0],comb[1]))\n",
    "            \n",
    "            \n",
    "groups = {'sample_1':sample_1['Base_Pay'],'sample_2':sample_2['Base_Pay'],'sample_3':sample_3['Base_Pay'],'sample_4':sample_4['Base_Pay']}\n",
    "multi_anova(groups)"
   ]
  },
  {
   "cell_type": "markdown",
   "id": "61f2efec-3c7e-47fd-bd3d-1719c61d5228",
   "metadata": {},
   "source": [
    "It means that year 2015 had similar base pay and annual pay scheme for all departments with respect to year 2013 whereas no other year was affected by any different year "
   ]
  }
 ],
 "metadata": {
  "kernelspec": {
   "display_name": "Python 3",
   "language": "python",
   "name": "python3"
  },
  "language_info": {
   "codemirror_mode": {
    "name": "ipython",
    "version": 3
   },
   "file_extension": ".py",
   "mimetype": "text/x-python",
   "name": "python",
   "nbconvert_exporter": "python",
   "pygments_lexer": "ipython3",
   "version": "3.8.10"
  }
 },
 "nbformat": 4,
 "nbformat_minor": 5
}
